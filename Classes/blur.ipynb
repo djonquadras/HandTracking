{
 "cells": [
  {
   "cell_type": "code",
   "execution_count": 1,
   "metadata": {},
   "outputs": [],
   "source": [
    "# Importa as bibliotecas\n",
    "import numpy as np\n",
    "from skimage.transform import rescale\n",
    "import scipy\n",
    "import scipy.ndimage\n",
    "import cv2\n",
    "import os"
   ]
  },
  {
   "cell_type": "code",
   "execution_count": 2,
   "metadata": {},
   "outputs": [],
   "source": [
    "def image_show(titulo, imagem):\n",
    "    cv2.imshow(titulo, imagem)\n",
    "    cv2.waitKey(0)\n",
    "    cv2.destroyAllWindows()"
   ]
  },
  {
   "cell_type": "code",
   "execution_count": 3,
   "metadata": {},
   "outputs": [],
   "source": [
    "# Seleciona a imagem\n",
    "img = cv2.imread(\"assets/fotos/cat.jpg\")\n",
    "image_show(\"gato\", img)"
   ]
  },
  {
   "cell_type": "code",
   "execution_count": 4,
   "metadata": {},
   "outputs": [],
   "source": [
    "# Blur pot média\n",
    "average = cv2.blur(img, (6,6))\n",
    "image_show(\"average\", average)"
   ]
  },
  {
   "cell_type": "code",
   "execution_count": 5,
   "metadata": {},
   "outputs": [],
   "source": [
    "#Blur Gaussiano\n",
    "gauss = cv2.GaussianBlur(img, (7,7), 0)\n",
    "image_show(\"gaus\",gauss)"
   ]
  },
  {
   "cell_type": "code",
   "execution_count": 6,
   "metadata": {},
   "outputs": [],
   "source": [
    "# Blur por Mediana\n",
    "median = cv2.medianBlur(img, 9)\n",
    "image_show(\"Mediana\", median)"
   ]
  },
  {
   "cell_type": "code",
   "execution_count": 8,
   "metadata": {},
   "outputs": [],
   "source": [
    "# Filtro Bilateral\n",
    "\n",
    "img_noisy = cv2.imread(\"assets/fotos/noisy_image.jpg\")\n",
    "image_show(\"Noisy\", img_noisy)\n",
    "\n",
    "bilateral = cv2.bilateralFilter(src=img_noisy, d = 15, sigmaColor=75, sigmaSpace=75)\n",
    "\n",
    "image_show(\"Bilateral\", bilateral)"
   ]
  },
  {
   "cell_type": "code",
   "execution_count": 9,
   "metadata": {},
   "outputs": [
    {
     "data": {
      "text/plain": [
       "-1"
      ]
     },
     "execution_count": 9,
     "metadata": {},
     "output_type": "execute_result"
    }
   ],
   "source": [
    "# Box Blur\n",
    "box_blur = (1 / 9) * np.array([[1, 1, 1],\n",
    "                                [1, 1, 1],\n",
    "                                [1, 1, 1]])\n",
    "# Gaussian Blur 3x3\n",
    "gaussian_3 = (1 / 16) * np.array([[1, 2, 1],\n",
    "                                  [2, 4, 2],\n",
    "                                  [1, 2, 1]])\n",
    "# Gaussian Blur 5x5\n",
    "gaussian_5 = (1 / 256) * np.array([[1, 4, 6, 4, 1],\n",
    "                                   [4, 16, 24, 16, 4],\n",
    "                                   [6, 24, 36, 24, 6],\n",
    "                                   [4, 16, 24, 16, 4],\n",
    "                                   [1, 4, 6, 4, 1]])\n",
    "\n",
    "kernels = [box_blur, gaussian_3, gaussian_5]\n",
    "kernel_name = ['Box Blur', '3x3 Gaussian Blur', '5x5 Gaussian Blur']\n",
    "\n",
    "'''\n",
    "O código entra em um loop, onde itera pelos kernels definidos e seus nomes correspondentes.\n",
    "Para cada kernel, ele executa convolução usando scipy.ndimage.convolve. \n",
    "A função np.atleast_3d é usada para garantir que o kernel tenha o formato apropriado \n",
    "para convolução com uma imagem de 3 canais. Torna o kernel tridimensional, \n",
    "combinando com a profundidade da imagem.\n",
    "O parâmetro mode='nearest' em convolve especifica que a convolução deve usar o modo \n",
    "de borda mais próximo, o que significa que o tamanho da imagem de saída corresponde \n",
    "ao tamanho de entrada.\n",
    "'''\n",
    "\n",
    "for kernel, name in zip(kernels, kernel_name):\n",
    "    conv_im1 = scipy.ndimage.convolve(img, np.atleast_3d(kernel), mode='nearest')\n",
    "    cv2.imshow(name, conv_im1)\n",
    "\n",
    "cv2.waitKey(0)"
   ]
  },
  {
   "cell_type": "code",
   "execution_count": null,
   "metadata": {},
   "outputs": [],
   "source": [
    "\n",
    "video_capture = cv2.VideoCapture(0)\n",
    "\n",
    "while True:\n",
    "    # Capture frame-by-frame\n",
    "    ret, frame = video_capture.read()\n",
    "\n",
    "   \n",
    "    # display the resulting frame\n",
    "    cv2.imshow('AsimoVideo', frame)\n",
    "\n",
    "    if cv2.waitKey(1) & 0xFF == ord('q'):\n",
    "        break\n",
    "\n",
    "# When everything is done, release the capture\n",
    "video_capture.release()\n",
    "cv2.destroyAllWindows()"
   ]
  }
 ],
 "metadata": {
  "kernelspec": {
   "display_name": ".env",
   "language": "python",
   "name": "python3"
  },
  "language_info": {
   "codemirror_mode": {
    "name": "ipython",
    "version": 3
   },
   "file_extension": ".py",
   "mimetype": "text/x-python",
   "name": "python",
   "nbconvert_exporter": "python",
   "pygments_lexer": "ipython3",
   "version": "3.9.13"
  }
 },
 "nbformat": 4,
 "nbformat_minor": 2
}
