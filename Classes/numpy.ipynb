{
 "cells": [
  {
   "cell_type": "markdown",
   "metadata": {},
   "source": [
    "# Álgebra Básica"
   ]
  },
  {
   "cell_type": "code",
   "execution_count": 1,
   "metadata": {},
   "outputs": [],
   "source": [
    "# Import Numpy\n",
    "import numpy as np"
   ]
  },
  {
   "cell_type": "code",
   "execution_count": 2,
   "metadata": {},
   "outputs": [
    {
     "name": "stdout",
     "output_type": "stream",
     "text": [
      "Array a\n",
      "[[1 2 3]\n",
      " [4 5 6]] (2, 3)\n",
      "\n",
      "Array b\n",
      "[[ 7  8  9]\n",
      " [10 11 12]\n",
      " [13 14 15]] (3, 3)\n"
     ]
    }
   ],
   "source": [
    "# Criando arrays\n",
    "a = np.array([[1,2,3], [4,5,6]])\n",
    "b = np.array([[7,8,9], [10,11,12],[13,14,15]])\n",
    "\n",
    "print(\"Array a\")\n",
    "print(a,a.shape)\n",
    "print(\"\")\n",
    "print(\"Array b\")\n",
    "print(b,b.shape)"
   ]
  },
  {
   "cell_type": "code",
   "execution_count": 3,
   "metadata": {},
   "outputs": [
    {
     "name": "stdout",
     "output_type": "stream",
     "text": [
      "[[1 2 3]\n",
      " [4 5 6]]\n",
      "[[ 7  8  9]\n",
      " [10 11 12]\n",
      " [13 14 15]]\n"
     ]
    }
   ],
   "source": [
    "# Transformando as arrays em matrizes\n",
    "matrix_a = np.matrix(a)\n",
    "matrix_b = np.matrix(b)\n",
    "\n",
    "print(a)\n",
    "print(b)"
   ]
  },
  {
   "cell_type": "code",
   "execution_count": 4,
   "metadata": {},
   "outputs": [
    {
     "name": "stdout",
     "output_type": "stream",
     "text": [
      "Matrizes Multiplicadas\n",
      "[[ 66  72  78]\n",
      " [156 171 186]]\n"
     ]
    }
   ],
   "source": [
    "# Multiplicando Matrizes\n",
    "matMult = np.matmul(a,b)\n",
    "\n",
    "print(\"Matrizes Multiplicadas\")\n",
    "print(matMult)"
   ]
  },
  {
   "cell_type": "code",
   "execution_count": 5,
   "metadata": {},
   "outputs": [
    {
     "name": "stdout",
     "output_type": "stream",
     "text": [
      "Array a Original\n",
      "[[1 2 3]\n",
      " [4 5 6]]\n",
      "\n",
      "Primeira Linha de a\n",
      "[1 2 3]\n",
      "\n",
      "Primeira Coluna de a\n",
      "[1 4]\n",
      "\n",
      "Última Linha de a\n",
      "[4 5 6]\n",
      "\n",
      "Última coluna de a\n",
      "[3 6]\n",
      "\n",
      "Invertendo a ordem das linhas\n",
      "[[4 5 6]\n",
      " [1 2 3]]\n",
      "\n",
      "Invertendo a ordem das colunas\n",
      "[[3 2 1]\n",
      " [6 5 4]]\n",
      "\n",
      "Invertendo a ordem das linhas e colunas\n",
      "[[6 5 4]\n",
      " [3 2 1]]\n",
      "\n",
      "Pulando 2 posições\n",
      "[[1 3]\n",
      " [4 6]]\n"
     ]
    }
   ],
   "source": [
    "# Mostrando valores das Matrizes\n",
    "\n",
    "print(\"Array a Original\")\n",
    "print(a)\n",
    "\n",
    "#Apenas a primeira linha\n",
    "print(\"\")\n",
    "print(\"Primeira Linha de a\")\n",
    "print(a[0])\n",
    "\n",
    "#Apenas a primeira coluna\n",
    "print(\"\")\n",
    "print(\"Primeira Coluna de a\")\n",
    "print(a[:,0])\n",
    "\n",
    "#Apenas a última linha\n",
    "print(\"\")\n",
    "print(\"Última Linha de a\")\n",
    "print(a[-1])\n",
    "\n",
    "#Apenas a última coluna\n",
    "print(\"\")\n",
    "print(\"Última coluna de a\")\n",
    "print(a[:, -1])\n",
    "\n",
    "# a com linhas invertidas\n",
    "print(\"\")\n",
    "print(\"Invertendo a ordem das linhas\")\n",
    "print(a[::-1])\n",
    "\n",
    "# a com colunas invertidas\n",
    "print(\"\")\n",
    "print(\"Invertendo a ordem das colunas\")\n",
    "print(a[:,::-1])\n",
    "\n",
    "# a com linhas e colunas invertidas\n",
    "print(\"\")\n",
    "print(\"Invertendo a ordem das linhas e colunas\")\n",
    "print(a[::-1,::-1])\n",
    "\n",
    "# Pulando a cada 2 posições\n",
    "print(\"\")\n",
    "print(\"Pulando 2 posições\")\n",
    "print(a[:,::2])"
   ]
  },
  {
   "cell_type": "code",
   "execution_count": 6,
   "metadata": {},
   "outputs": [
    {
     "name": "stdout",
     "output_type": "stream",
     "text": [
      "Vetor de Zeros\n",
      "[0 0 0]\n",
      "\n",
      "Vetor de Uns\n",
      "[1 1 1]\n",
      "\n",
      "Valores Diversos\n",
      "[[3 3 3]\n",
      " [3 3 3]\n",
      " [3 3 3]]\n",
      "\n",
      "Valores Aleatorios\n",
      "[[ 4 12  5]\n",
      " [13  3  1]\n",
      " [ 6  2 15]]\n"
     ]
    }
   ],
   "source": [
    "# Criando vetor de Zeros\n",
    "zeros = np.zeros(3,dtype= \"int32\")\n",
    "print(\"Vetor de Zeros\")\n",
    "print(zeros)\n",
    "\n",
    "print(\"\")\n",
    "# Criando vetor de Uns\n",
    "uns = np.ones(3, dtype= \"int32\")\n",
    "print(\"Vetor de Uns\")\n",
    "print(uns)\n",
    "\n",
    "print(\"\")\n",
    "# Preenchendo com outros valores\n",
    "outros = np.full([3,3], 3) #Cria uma matriz 3x3 cheia de valores 3\n",
    "print(\"Valores Diversos\")\n",
    "print(outros)\n",
    "\n",
    "print(\"\")\n",
    "# Preenchendo com valores aleatórios\n",
    "aleatorios = np.random.randint(0, 16, size=(3, 3)) #Cria uma matriz 3x3 aleatoria\n",
    "print(\"Valores Aleatorios\")\n",
    "print(aleatorios)"
   ]
  },
  {
   "cell_type": "code",
   "execution_count": 7,
   "metadata": {},
   "outputs": [
    {
     "name": "stdout",
     "output_type": "stream",
     "text": [
      "Identidade\n",
      "Identidade\n"
     ]
    },
    {
     "data": {
      "text/plain": [
       "array([[1, 0, 0, 0],\n",
       "       [0, 1, 0, 0],\n",
       "       [0, 0, 1, 0],\n",
       "       [0, 0, 0, 1]], dtype=int32)"
      ]
     },
     "execution_count": 7,
     "metadata": {},
     "output_type": "execute_result"
    }
   ],
   "source": [
    "#Matriz Identidade\n",
    "print(\"Identidade\")\n",
    "np.identity(4, dtype='int32')\n",
    "\n",
    "\n",
    "# Matriz Identidade\n",
    "print(\"Identidade\")\n",
    "np.identity(4, dtype='int32')"
   ]
  },
  {
   "cell_type": "markdown",
   "metadata": {},
   "source": [
    "# Aplicações Avançadas e Estatística Básica"
   ]
  },
  {
   "cell_type": "code",
   "execution_count": 8,
   "metadata": {},
   "outputs": [
    {
     "data": {
      "text/plain": [
       "3.141592653589793"
      ]
     },
     "execution_count": 8,
     "metadata": {},
     "output_type": "execute_result"
    }
   ],
   "source": [
    "import math\n",
    "\n",
    "# Pi\n",
    "math.pi"
   ]
  },
  {
   "cell_type": "code",
   "execution_count": 9,
   "metadata": {},
   "outputs": [
    {
     "name": "stdout",
     "output_type": "stream",
     "text": [
      "[[ 1.      2.      3.    ]\n",
      " [ 6.     57.      2.    ]\n",
      " [ 7.     12.      3.3233]]\n",
      "Determinante = -827.4515\n"
     ]
    }
   ],
   "source": [
    "# Encontrando o Determinante de Matrizes\n",
    "\n",
    "matriz = np.array([[1,2,3], [6,57,2], [7,12,3.3233]])\n",
    "print(matriz)\n",
    "\n",
    "determinante = np.linalg.det(matriz)\n",
    "print(f\"Determinante = {determinante}\")"
   ]
  },
  {
   "cell_type": "code",
   "execution_count": 10,
   "metadata": {},
   "outputs": [
    {
     "data": {
      "text/plain": [
       "array([[ 5, 42, 69, 84, 93],\n",
       "       [33, 74, 85, 53,  2],\n",
       "       [33,  2, 89, 47, 54],\n",
       "       [80,  8, 38, 90, 69],\n",
       "       [44, 18, 92, 30, 92]], dtype=int32)"
      ]
     },
     "execution_count": 10,
     "metadata": {},
     "output_type": "execute_result"
    }
   ],
   "source": [
    "# Estatística Básica\n",
    "dados = np.random.randint(0,100, size=(5,5))\n",
    "dados"
   ]
  },
  {
   "cell_type": "code",
   "execution_count": 11,
   "metadata": {},
   "outputs": [
    {
     "name": "stdout",
     "output_type": "stream",
     "text": [
      "Valor Mínimo = 2\n",
      "Menores Valores por Coluna = [ 5  2 38 30  2]\n",
      "Menores Valores por Linha = [ 5  2  2  8 18]\n",
      "Valor Máximo = 93\n",
      "Soma dos Valores = 1326\n",
      "Soma dos Valores por Coluna = [195 144 373 304 310]\n",
      "Soma dos Valores por Linha = [293 247 225 285 276]\n",
      "Média dos Valores = 53.04\n",
      "Média dos Valores por Coluna = [39.  28.8 74.6 60.8 62. ]\n",
      "Média dos Valores por Linha = [58.6 49.4 45.  57.  55.2]\n"
     ]
    }
   ],
   "source": [
    "print(f\"Valor Mínimo = {np.min(dados)}\")\n",
    "print(f\"Menores Valores por Coluna = {np.min(dados, axis=0)}\")\n",
    "print(f\"Menores Valores por Linha = {np.min(dados, axis=1)}\")\n",
    "print(f\"Valor Máximo = {np.max(dados)}\")\n",
    "print(f\"Soma dos Valores = {np.sum(dados)}\")\n",
    "print(f\"Soma dos Valores por Coluna = {np.sum(dados, axis=0)}\")\n",
    "print(f\"Soma dos Valores por Linha = {np.sum(dados, axis=1)}\")\n",
    "print(f\"Média dos Valores = {np.average(dados)}\")\n",
    "print(f\"Média dos Valores por Coluna = {np.average(dados, axis=0)}\")\n",
    "print(f\"Média dos Valores por Linha = {np.average(dados, axis=1)}\")"
   ]
  },
  {
   "cell_type": "code",
   "execution_count": 12,
   "metadata": {},
   "outputs": [
    {
     "name": "stdout",
     "output_type": "stream",
     "text": [
      "vstack\n",
      "[[5 6 7 8]\n",
      " [1 2 3 4]\n",
      " [5 6 7 8]]\n",
      "\n",
      "hstack\n",
      "[5 6 7 8 1 2 3 4 5 6 7 8]\n",
      "vstack 1 \n",
      " [[1 2 3 4]\n",
      " [5 6 7 8]] \n",
      " \n",
      " vstack 2 \n",
      " [[5 6 7 8]\n",
      " [1 2 3 4]]\n",
      "\n",
      " hstack \n",
      " [[1 2 3 4 5 6 7 8]\n",
      " [5 6 7 8 1 2 3 4]]\n"
     ]
    }
   ],
   "source": [
    "#Reshape\n",
    "\n",
    "a = np.array([1,2,3,4])\n",
    "b = np.array([5,6,7,8])\n",
    "\n",
    "# vstack junta um acima do outro\n",
    "print(\"vstack\")\n",
    "c = np.vstack([b,a,b])\n",
    "print(c)\n",
    "\n",
    "# hstack junta um ao lado do outro\n",
    "print(\"\")\n",
    "print(\"hstack\")\n",
    "d = np.hstack([b,a,b])\n",
    "print(d)\n",
    "\n",
    "#Mesclando os dois\n",
    "e = np.vstack([a,b])\n",
    "f = np.vstack([b,a])\n",
    "\n",
    "print(\"vstack 1\",\"\\n\", e,\"\\n\",\"\\n\",\"vstack 2\",\"\\n\",f)\n",
    "\n",
    "g = np.hstack([e,f])\n",
    "print(\"\\n\", \"hstack\",\"\\n\",g)"
   ]
  },
  {
   "cell_type": "code",
   "execution_count": 14,
   "metadata": {},
   "outputs": [
    {
     "data": {
      "text/plain": [
       "array([1, 2, 3, 4, 1, 2, 3, 4, 1, 2, 3, 4, 1, 2, 3, 4])"
      ]
     },
     "execution_count": 14,
     "metadata": {},
     "output_type": "execute_result"
    }
   ],
   "source": [
    "np.tile(a, 4)"
   ]
  }
 ],
 "metadata": {
  "kernelspec": {
   "display_name": ".env",
   "language": "python",
   "name": "python3"
  },
  "language_info": {
   "codemirror_mode": {
    "name": "ipython",
    "version": 3
   },
   "file_extension": ".py",
   "mimetype": "text/x-python",
   "name": "python",
   "nbconvert_exporter": "python",
   "pygments_lexer": "ipython3",
   "version": "3.9.13"
  }
 },
 "nbformat": 4,
 "nbformat_minor": 2
}
